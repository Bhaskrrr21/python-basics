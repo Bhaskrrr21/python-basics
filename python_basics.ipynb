{
  "nbformat": 4,
  "nbformat_minor": 0,
  "metadata": {
    "colab": {
      "provenance": []
    },
    "kernelspec": {
      "name": "python3",
      "display_name": "Python 3"
    },
    "language_info": {
      "name": "python"
    }
  },
  "cells": [
    {
      "cell_type": "markdown",
      "source": [
        "1. What is Python and why is it popular ?"
      ],
      "metadata": {
        "id": "6iJcwLAcrLPQ"
      }
    },
    {
      "cell_type": "markdown",
      "source": [
        "Python is a computer language used to write programs python is known for its simplicity and readability It was created by Guido van Rossum and first released in 1991.\n",
        "- Easy to Learn – Python looks like normal english, so it’s easy to understand.\n",
        "- Versatility: Python is used in a wide range of applications, including web development & machine learning"
      ],
      "metadata": {
        "id": "rZmeW0rfrgZL"
      }
    },
    {
      "cell_type": "markdown",
      "source": [
        "2. What is an interpreter in Python ?\n",
        "\n",
        "- An interpreter in Python is a program that executes Python code directly, translating it into machine code line by line or statement by statement. Unlike compiled languages, where the entire code is translated into machine code before execution, an interpreter processes the code at runtime"
      ],
      "metadata": {
        "id": "tZLkDZXZtcVn"
      }
    },
    {
      "cell_type": "markdown",
      "source": [
        "3. What are pre-defined keywords in Python ?\n",
        "- Pre-defined keywords in Python are special reserved words that have a fixed meaning and cannot be used as variable names because they are reserved.\n",
        "- Example: False,\n",
        "None,\n",
        "True,\n",
        "and,\n",
        "as,\n",
        "assert,\n",
        "async,\n",
        "await,\n",
        "break &\n",
        "class"
      ],
      "metadata": {
        "id": "iFD4pLrRuf3C"
      }
    },
    {
      "cell_type": "markdown",
      "source": [
        "4. Can keywords be used as variable names ?\n",
        "- No, keywords cannot be used as variable names. Keywords have a special meaning in the Python language, using them as variable names will cause an error"
      ],
      "metadata": {
        "id": "BAq08t97wQIE"
      }
    },
    {
      "cell_type": "markdown",
      "source": [
        "5. What is mutability in Python ?\n",
        "- Mutability in Python refers to the ability of an object to be changed after it has been created. In other words, a mutable object can have its state or contents modified."
      ],
      "metadata": {
        "id": "_U5zxvrNwyxK"
      }
    },
    {
      "cell_type": "markdown",
      "source": [
        "6. Why are lists mutable, but tuples are immutable ?\n",
        "- The immutability of tuples makes them a fixed, unchangeable collection of items. This property distinguishes tuples from lists, which are mutable and allow for modifications after creation\n",
        "- Usecase are different in both list and tupple\n",
        "-- Lists are designed to be dynamic collections of items. They are often used when you need to store a collection of elements that may change over time. For example, you might want to add, remove, or modify elements\n",
        "--  Tuples, on the other hand, are intended to represent fixed collections of items. They are often used to group related data together\n",
        "-Tuples are generally more memory-efficient than lists. Since tuples are immutable\n",
        "- Lists are not hashable.\n",
        "- Tuples are hashable if they contain only immutable elements."
      ],
      "metadata": {
        "id": "MbzH_0j2xJwE"
      }
    },
    {
      "cell_type": "markdown",
      "source": [
        "7. What is the difference between “==” and “is” operators in Python ?\n",
        "- In Python, both '==' and 'is' are comparison operators, but they work differently\n",
        "\n",
        " \"**==**\" is known as (Equality Operator)\n",
        "- Compares values of two objects\n",
        "- Checks if two objects have the same value\n",
        "\n",
        "  \"**is**\" is known as (Identity Operator)\n",
        "- Checks if two variables point to the same memory location\n",
        "\n",
        "\n",
        "\n"
      ],
      "metadata": {
        "id": "9jTIlLNB_JUs"
      }
    },
    {
      "cell_type": "markdown",
      "source": [
        "8. What are logical operators in Python ?\n",
        "- Logical operators in Python are used to combine conditional statements and evaluate boolean expressions.\n",
        "-The 'and' operator returns True if both operands are true. If either operand is false, it returns False.\n",
        "- The 'or' operator returns True if at least one of the operands is true. It returns False only if both operands are false\n",
        "- The 'not' operator negates the condition. Returns True if the condition is false, and False if the condition is true"
      ],
      "metadata": {
        "id": "s46jM-ReBfyQ"
      }
    },
    {
      "cell_type": "markdown",
      "source": [
        "9. What is type casting in Python ?\n",
        "\n",
        "- Type casting in Python is the process of converting one data type into another. Python provides two types of type casting\n",
        "\n",
        "1. Implicit Type Casting (Automatic)\n",
        "2. Explicit Type Casting (User)"
      ],
      "metadata": {
        "id": "SKt0H21t43HP"
      }
    },
    {
      "cell_type": "markdown",
      "source": [
        "10. What is the difference between implicit and explicit type casting ?\n",
        "- **Implicit type casting**\n",
        "\n",
        "1.   It is also known as automatic type conversion, occurs when the programming language\n",
        "automatically converts one data type to another without any explicit instruction from the programmer\n",
        "2. Implicit casting is generally safe and does not lead to data loss.\n",
        "3.The conversion is handled by the Python interpreter without requiring any additional code from the programmer\n",
        "- **Explicit type casting**\n",
        "\n",
        "1.   Explicit type casting, also known as type conversion, occurs when the programmer manually converts one data type to another using built-in functions\n",
        "2.    Explicit casting can lead to data loss if not done carefully\n",
        "3.  The programmer must specify the conversion using functions like int(), float(), or str().\n",
        "\n",
        "\n",
        "\n",
        "\n",
        "\n",
        "\n"
      ],
      "metadata": {
        "id": "jhNY6ASZwgxx"
      }
    },
    {
      "cell_type": "markdown",
      "source": [
        "11. What is the purpose of conditional statements in Python ?\n",
        "- Conditional statements are essential for implementing logic in Python programs. They allow for decision-making, control the flow of execution, and enable the handling of different scenarios based on conditions. By using if, else, and elif,"
      ],
      "metadata": {
        "id": "edOzuzYCwI1W"
      }
    },
    {
      "cell_type": "markdown",
      "source": [
        "12. How does the elif statement work ?\n",
        "- The elif statement is used in conditional statements to check multiple conditions one after another. It stands for \"else if\"\n",
        "\n",
        "- If the first if condition is False, Python checks the elif condition.\n",
        "- If the elif condition is True, that block of code runs.\n",
        "- If no conditions are True, the else block (if present) runs."
      ],
      "metadata": {
        "id": "FIRnNqy3voVw"
      }
    },
    {
      "cell_type": "markdown",
      "source": [
        "13. What is the difference between for and while loops\n",
        "- **FOR LOOP**\n",
        "\n",
        "\n",
        "1.   For loop is used when the number of iterations is already known.\n",
        "2.   The for loop is faster than the while loop.\n",
        "3. In absence of condition the loop runs infinite times.\n",
        "4. Range or xrange function is used to iterate.\n",
        "5. Once for loop is done it cannot be repeated\n",
        "- **WHILE LOOP**\n",
        "\n",
        "\n",
        "1.  While loop is used when the number of iterations is already unknown.\n",
        "2. While loop is slower as compared to for loop.\n",
        "3. In the absence of condition returns the compile time error\n",
        "4. No such function is used in the while loop.\n",
        "5. While loop will repeat at every iteration."
      ],
      "metadata": {
        "id": "XJSV2gc_rMyS"
      }
    },
    {
      "cell_type": "markdown",
      "source": [
        "14. Describe a scenario where a while loop is more suitable than a for loop ?\n",
        "\n",
        " **Scenario: Guessing a Number**\n",
        "\n",
        "- Imagine you want to create a simple game where the user has to guess a random number between 1 and 10.\n",
        "- In this simple guessing game, a while loop is more suitable than a for loop because the number of guesses is unknown.\n",
        "- The loop continues until the user successfully guesses the correct number."
      ],
      "metadata": {
        "id": "q-VniebnrM93"
      }
    },
    {
      "cell_type": "markdown",
      "source": [
        "1. Write a Python program to print \"Hello, World!_"
      ],
      "metadata": {
        "id": "GeAahXcFU4dQ"
      }
    },
    {
      "cell_type": "code",
      "source": [
        "print(\"Hello World\")"
      ],
      "metadata": {
        "colab": {
          "base_uri": "https://localhost:8080/"
        },
        "id": "6S1eJqQCWA22",
        "outputId": "17f39671-4891-4aed-fd8c-969c50050a3d"
      },
      "execution_count": 1,
      "outputs": [
        {
          "output_type": "stream",
          "name": "stdout",
          "text": [
            "Hello World\n"
          ]
        }
      ]
    },
    {
      "cell_type": "markdown",
      "source": [
        "2. Write a Python program that displays your name and age ?"
      ],
      "metadata": {
        "id": "hZZfypedWV6R"
      }
    },
    {
      "cell_type": "code",
      "source": [
        "\n",
        "name = \"Bhaskar\"\n",
        "age = 21\n",
        "print(\"My name is\", name)\n",
        "print(\"I am\", age, \"years old\")\n"
      ],
      "metadata": {
        "colab": {
          "base_uri": "https://localhost:8080/"
        },
        "id": "iRyuBtXsWeYh",
        "outputId": "c3c08baa-c5b8-4df1-cf7a-702b48e70915"
      },
      "execution_count": 2,
      "outputs": [
        {
          "output_type": "stream",
          "name": "stdout",
          "text": [
            "My name is Bhaskar\n",
            "I am 21 years old\n"
          ]
        }
      ]
    },
    {
      "cell_type": "markdown",
      "source": [
        "3. Write code to print all the pre-defined keywords in Python using the keyword library ?\n"
      ],
      "metadata": {
        "id": "e-FtjujBW49n"
      }
    },
    {
      "cell_type": "code",
      "source": [
        "import keyword\n",
        "print(\"The list of keywords are : \")\n",
        "print(keyword.kwlist)"
      ],
      "metadata": {
        "colab": {
          "base_uri": "https://localhost:8080/"
        },
        "id": "aAIB1AmCYKVb",
        "outputId": "640ad18f-b3dc-44ae-f833-77afc95580b6"
      },
      "execution_count": 11,
      "outputs": [
        {
          "output_type": "stream",
          "name": "stdout",
          "text": [
            "The list of keywords are : \n",
            "['False', 'None', 'True', 'and', 'as', 'assert', 'async', 'await', 'break', 'class', 'continue', 'def', 'del', 'elif', 'else', 'except', 'finally', 'for', 'from', 'global', 'if', 'import', 'in', 'is', 'lambda', 'nonlocal', 'not', 'or', 'pass', 'raise', 'return', 'try', 'while', 'with', 'yield']\n"
          ]
        }
      ]
    },
    {
      "cell_type": "markdown",
      "source": [
        "4. Write a program that checks if a given word is a Python keyword ?"
      ],
      "metadata": {
        "id": "NIJusZV_Xq98"
      }
    },
    {
      "cell_type": "code",
      "source": [
        "import keyword\n",
        "word = input(\"Enter a word: \")\n",
        "if keyword.iskeyword(word):\n",
        "    print(f\"'{word}' is a Python keyword.\")\n",
        "else:\n",
        "    print(f\"'{word}' is NOT a Python keyword.\")\n"
      ],
      "metadata": {
        "colab": {
          "base_uri": "https://localhost:8080/"
        },
        "id": "KXPnDkbCZ0dT",
        "outputId": "d34853e8-91c8-497c-ed05-a338497e4ff3"
      },
      "execution_count": 13,
      "outputs": [
        {
          "output_type": "stream",
          "name": "stdout",
          "text": [
            "Enter a word: class\n",
            "'class' is a Python keyword.\n"
          ]
        }
      ]
    },
    {
      "cell_type": "markdown",
      "source": [
        "5. Create a list and tuple in Python, and demonstrate how attempting to change an element works differently\n",
        "for each ?"
      ],
      "metadata": {
        "id": "O7T83qVDb3Sm"
      }
    },
    {
      "cell_type": "code",
      "source": [
        "my_list = [1, 2, 3, 4, 5]\n",
        "print( \"List:\", my_list)\n",
        "\n",
        "my_list[2] = 9\n",
        "print(\"Modified List:\", my_list)\n",
        "\n",
        "my_tuple = (1, 2, 3, 4, 5)\n",
        "print(\"Tuple:\", my_tuple)"
      ],
      "metadata": {
        "colab": {
          "base_uri": "https://localhost:8080/"
        },
        "id": "Z-f7JBpScAvy",
        "outputId": "30e05803-1177-49b0-c765-2f87f0be6f7c"
      },
      "execution_count": 19,
      "outputs": [
        {
          "output_type": "stream",
          "name": "stdout",
          "text": [
            "List: [1, 2, 3, 4, 5]\n",
            "Modified List: [1, 2, 9, 4, 5]\n",
            "Tuple: (1, 2, 3, 4, 5)\n"
          ]
        }
      ]
    },
    {
      "cell_type": "markdown",
      "source": [
        "6. Write a function to demonstrate the behavior of mutable and immutable arguments ?"
      ],
      "metadata": {
        "id": "T4HKUiJDd-AJ"
      }
    },
    {
      "cell_type": "code",
      "source": [
        "def modify(y, lst):\n",
        "    y += 32\n",
        "    lst.append(99)\n",
        "\n",
        "num = 5\n",
        "numbers = [1, 2, 3]\n",
        "\n",
        "print(\"Before function call:\", numbers)\n",
        "\n",
        "modify(num, numbers)\n",
        "\n",
        "print(\"After function call:\", numbers)\n"
      ],
      "metadata": {
        "colab": {
          "base_uri": "https://localhost:8080/"
        },
        "id": "qSiR3swegw_Q",
        "outputId": "44c4fdeb-3c1d-47e2-f10c-a3ae0aee241a"
      },
      "execution_count": 23,
      "outputs": [
        {
          "output_type": "stream",
          "name": "stdout",
          "text": [
            "Before function call: [1, 2, 3]\n",
            "After function call: [1, 2, 3, 99]\n"
          ]
        }
      ]
    },
    {
      "cell_type": "markdown",
      "source": [
        "7. Write a program to demonstrate the use of logical operators ?"
      ],
      "metadata": {
        "id": "jvyB5t0Shf7Y"
      }
    },
    {
      "cell_type": "code",
      "source": [
        "\n",
        "x = 10\n",
        "y = 5\n",
        "# Using 'and' operator\n",
        "print(\"x > 5 and y < 10:\", x > 5 and y < 10)  # True (Both conditions are True)\n",
        "\n",
        "# Using 'or' operator\n",
        "print(\"x < 5 or y < 10:\", x < 5 or y < 10)  # True (One condition is True)\n",
        "\n",
        "# Using 'not' operator\n",
        "print(\"not (x == 10):\", not (x == 10))  # False (Reverses True to False)\n"
      ],
      "metadata": {
        "colab": {
          "base_uri": "https://localhost:8080/"
        },
        "id": "nPIL8XMijIIX",
        "outputId": "2115683b-b7de-48ea-9355-0c2a3adf1ab1"
      },
      "execution_count": 24,
      "outputs": [
        {
          "output_type": "stream",
          "name": "stdout",
          "text": [
            "x > 5 and y < 10: True\n",
            "x < 5 or y < 10: True\n",
            "not (x == 10): False\n"
          ]
        }
      ]
    },
    {
      "cell_type": "markdown",
      "source": [
        "8. Write a Python program to convert user input from string to integer, float, and boolean types ?"
      ],
      "metadata": {
        "id": "cMwq_AMtmGap"
      }
    },
    {
      "cell_type": "code",
      "source": [
        "user_input = input(\"Enter a value: \")\n",
        "\n",
        "try:\n",
        "    int_value = int(user_input)\n",
        "    print(\"Integer:\", int_value)\n",
        "except ValueError:\n",
        "    print(\"Cannot convert to Integer!\")\n",
        "\n",
        "try:\n",
        "    float_value = float(user_input)\n",
        "    print(\"Float:\", float_value)\n",
        "except ValueError:\n",
        "    print(\"Cannot convert to Float!\")\n",
        "\n",
        "bool_value = bool(user_input)\n",
        "print(\"Boolean:\", bool_value)\n"
      ],
      "metadata": {
        "colab": {
          "base_uri": "https://localhost:8080/"
        },
        "id": "32y7r9cznu62",
        "outputId": "d1b90f8f-78e1-4acb-d2fb-92a00155f4b0"
      },
      "execution_count": 31,
      "outputs": [
        {
          "output_type": "stream",
          "name": "stdout",
          "text": [
            "Enter a value: 8\n",
            "Integer: 8\n",
            "Float: 8.0\n",
            "Boolean: True\n"
          ]
        }
      ]
    },
    {
      "cell_type": "markdown",
      "source": [
        "9. Write code to demonstrate type casting with list elements ?"
      ],
      "metadata": {
        "id": "eJPvnxZbn9p7"
      }
    },
    {
      "cell_type": "code",
      "source": [
        "mixed_list = [\"10\", 20, \"30.5\", 40.7, \"50\"]\n",
        "\n",
        "int_list = [int(float(item)) for item in mixed_list]\n",
        "print(\"Integer List:\", int_list)\n",
        "\n",
        "float_list = [float(item) for item in mixed_list]\n",
        "print(\"Float List:\", float_list)\n",
        "\n",
        "string_list = [str(item) for item in mixed_list]\n",
        "print(\"String List:\", string_list)\n",
        "\n",
        "bool_list = [bool(item) for item in mixed_list]\n",
        "print(\"Boolean List:\", bool_list)\n"
      ],
      "metadata": {
        "colab": {
          "base_uri": "https://localhost:8080/"
        },
        "id": "TEr5BpzvwGYd",
        "outputId": "2d76fa75-0dd1-4454-9d61-a9cc220f7c44"
      },
      "execution_count": 36,
      "outputs": [
        {
          "output_type": "stream",
          "name": "stdout",
          "text": [
            "Integer List: [10, 20, 30, 40, 50]\n",
            "Float List: [10.0, 20.0, 30.5, 40.7, 50.0]\n",
            "String List: ['10', '20', '30.5', '40.7', '50']\n",
            "Boolean List: [True, True, True, True, True]\n"
          ]
        }
      ]
    },
    {
      "cell_type": "markdown",
      "source": [
        "10. Write a program that checks if a number is positive, negative, or zero ?"
      ],
      "metadata": {
        "id": "muwO4_yExNap"
      }
    },
    {
      "cell_type": "code",
      "source": [
        "def check_number(n):\n",
        "    if n > 0:\n",
        "        return \"Positive\"\n",
        "    elif n < 0:\n",
        "        return \"Negative\"\n",
        "    else:\n",
        "        return \"Zero\"\n",
        "\n",
        "num = float(input(\"Enter a number: \"))\n",
        "result = check_number(num)\n",
        "print(f\"The number is {result}.\")\n"
      ],
      "metadata": {
        "colab": {
          "base_uri": "https://localhost:8080/"
        },
        "id": "t_4yh1lWyBN_",
        "outputId": "fbe5d8cc-5c2b-46b0-92f4-b50e0cecc0c1"
      },
      "execution_count": 38,
      "outputs": [
        {
          "output_type": "stream",
          "name": "stdout",
          "text": [
            "Enter a number: 2.2\n",
            "The number is Positive.\n"
          ]
        }
      ]
    },
    {
      "cell_type": "markdown",
      "source": [
        "11. Write a for loop to print numbers from 1 to 10 ?"
      ],
      "metadata": {
        "id": "VhjNJk0Fy2nX"
      }
    },
    {
      "cell_type": "code",
      "source": [
        "for i in range(1, 11):\n",
        "    print(i)\n"
      ],
      "metadata": {
        "colab": {
          "base_uri": "https://localhost:8080/"
        },
        "id": "J6C930p_y_CK",
        "outputId": "41f58776-f4c3-490a-dbf5-c86f4181eb82"
      },
      "execution_count": 39,
      "outputs": [
        {
          "output_type": "stream",
          "name": "stdout",
          "text": [
            "1\n",
            "2\n",
            "3\n",
            "4\n",
            "5\n",
            "6\n",
            "7\n",
            "8\n",
            "9\n",
            "10\n"
          ]
        }
      ]
    },
    {
      "cell_type": "markdown",
      "source": [
        "12. Write a Python program to find the sum of all even numbers between 1 and 500 ?"
      ],
      "metadata": {
        "id": "_Ipwq2OCzMSO"
      }
    },
    {
      "cell_type": "code",
      "source": [
        "total = 0\n",
        "\n",
        "# Loop through numbers from 1 to 50\n",
        "for num in range(1, 51):\n",
        "    # Check if the number is even\n",
        "    if num % 2 == 0:\n",
        "        total += num  # Add even number to total\n",
        "\n",
        "print(\"Sum of all even numbers between 1 and 50:\", total)\n"
      ],
      "metadata": {
        "colab": {
          "base_uri": "https://localhost:8080/"
        },
        "id": "44FuLz2F0H6l",
        "outputId": "33abb6a9-8b69-440b-84ab-7d2260090d1f"
      },
      "execution_count": 42,
      "outputs": [
        {
          "output_type": "stream",
          "name": "stdout",
          "text": [
            "Sum of all even numbers between 1 and 50: 650\n"
          ]
        }
      ]
    },
    {
      "cell_type": "markdown",
      "source": [
        " 13. Write a program to reverse a string using a while loop"
      ],
      "metadata": {
        "id": "53pE6FQD0Yef"
      }
    },
    {
      "cell_type": "code",
      "source": [
        "s = \"HONEY\"\n",
        "rev = \"\"\n",
        "index = len(s) - 1\n",
        "\n",
        "while index >= 0:\n",
        "    rev += s[index]\n",
        "    index -= 1\n",
        "\n",
        "print(rev)\n"
      ],
      "metadata": {
        "colab": {
          "base_uri": "https://localhost:8080/"
        },
        "id": "vqipuZse231J",
        "outputId": "17437b84-dfa9-46b5-c62c-c0ea7ae58573"
      },
      "execution_count": 48,
      "outputs": [
        {
          "output_type": "stream",
          "name": "stdout",
          "text": [
            "YENOH\n"
          ]
        }
      ]
    },
    {
      "cell_type": "markdown",
      "source": [
        "14. Write a Python program to calculate the factorial of a number provided by the user using a while loop ?"
      ],
      "metadata": {
        "id": "y5-D1Lgh2_LM"
      }
    },
    {
      "cell_type": "code",
      "source": [
        "num = int(input(\"Enter a number: \"))\n",
        "\n",
        "fact = 1\n",
        "i = num\n",
        "\n",
        "while i > 0:\n",
        "    fact *= i\n",
        "    i -= 1\n",
        "\n",
        "print(\"Factorial of\", num, \"is\", fact)\n"
      ],
      "metadata": {
        "colab": {
          "base_uri": "https://localhost:8080/"
        },
        "id": "f7bxrNgq3FIw",
        "outputId": "1c7ee649-aa8a-43e0-c7a5-bc8dc68fac6f"
      },
      "execution_count": 50,
      "outputs": [
        {
          "output_type": "stream",
          "name": "stdout",
          "text": [
            "Enter a number: -5\n",
            "Factorial of -5 is 1\n"
          ]
        }
      ]
    }
  ]
}